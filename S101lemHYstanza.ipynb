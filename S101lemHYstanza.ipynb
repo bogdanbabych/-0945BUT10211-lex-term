{
  "nbformat": 4,
  "nbformat_minor": 0,
  "metadata": {
    "colab": {
      "provenance": [],
      "include_colab_link": true
    },
    "kernelspec": {
      "name": "python3",
      "display_name": "Python 3"
    },
    "language_info": {
      "name": "python"
    },
    "widgets": {
      "application/vnd.jupyter.widget-state+json": {
        "0cab7b425aa240b89fb1b4f115536a5e": {
          "model_module": "@jupyter-widgets/controls",
          "model_name": "HBoxModel",
          "model_module_version": "1.5.0",
          "state": {
            "_dom_classes": [],
            "_model_module": "@jupyter-widgets/controls",
            "_model_module_version": "1.5.0",
            "_model_name": "HBoxModel",
            "_view_count": null,
            "_view_module": "@jupyter-widgets/controls",
            "_view_module_version": "1.5.0",
            "_view_name": "HBoxView",
            "box_style": "",
            "children": [
              "IPY_MODEL_d5a55a6caafa424c8d0aca97f9201883",
              "IPY_MODEL_8ce1ee50c8bc44bf9cdd0eb54e37fb7d",
              "IPY_MODEL_91ebd12398cd44e6abbc3b92bb5a4eff"
            ],
            "layout": "IPY_MODEL_68aa7ee87c84411e9b1dfe24e012bdba"
          }
        },
        "d5a55a6caafa424c8d0aca97f9201883": {
          "model_module": "@jupyter-widgets/controls",
          "model_name": "HTMLModel",
          "model_module_version": "1.5.0",
          "state": {
            "_dom_classes": [],
            "_model_module": "@jupyter-widgets/controls",
            "_model_module_version": "1.5.0",
            "_model_name": "HTMLModel",
            "_view_count": null,
            "_view_module": "@jupyter-widgets/controls",
            "_view_module_version": "1.5.0",
            "_view_name": "HTMLView",
            "description": "",
            "description_tooltip": null,
            "layout": "IPY_MODEL_59f57a5e4ab34399b96839b258975944",
            "placeholder": "​",
            "style": "IPY_MODEL_2b5a665d4c524dfca9032d260d8ab63d",
            "value": "Downloading https://raw.githubusercontent.com/stanfordnlp/stanza-resources/main/resources_1.4.1.json: "
          }
        },
        "8ce1ee50c8bc44bf9cdd0eb54e37fb7d": {
          "model_module": "@jupyter-widgets/controls",
          "model_name": "FloatProgressModel",
          "model_module_version": "1.5.0",
          "state": {
            "_dom_classes": [],
            "_model_module": "@jupyter-widgets/controls",
            "_model_module_version": "1.5.0",
            "_model_name": "FloatProgressModel",
            "_view_count": null,
            "_view_module": "@jupyter-widgets/controls",
            "_view_module_version": "1.5.0",
            "_view_name": "ProgressView",
            "bar_style": "success",
            "description": "",
            "description_tooltip": null,
            "layout": "IPY_MODEL_274392ceafa14a68ac13e51927ffe81a",
            "max": 28918,
            "min": 0,
            "orientation": "horizontal",
            "style": "IPY_MODEL_c2e647c86c7a40fe9b11316138034e6a",
            "value": 28918
          }
        },
        "91ebd12398cd44e6abbc3b92bb5a4eff": {
          "model_module": "@jupyter-widgets/controls",
          "model_name": "HTMLModel",
          "model_module_version": "1.5.0",
          "state": {
            "_dom_classes": [],
            "_model_module": "@jupyter-widgets/controls",
            "_model_module_version": "1.5.0",
            "_model_name": "HTMLModel",
            "_view_count": null,
            "_view_module": "@jupyter-widgets/controls",
            "_view_module_version": "1.5.0",
            "_view_name": "HTMLView",
            "description": "",
            "description_tooltip": null,
            "layout": "IPY_MODEL_193cfbece09c40869df319392a2de818",
            "placeholder": "​",
            "style": "IPY_MODEL_e546aabee1294bcfbc450c4439749fc5",
            "value": " 193k/? [00:00&lt;00:00, 6.60MB/s]"
          }
        },
        "68aa7ee87c84411e9b1dfe24e012bdba": {
          "model_module": "@jupyter-widgets/base",
          "model_name": "LayoutModel",
          "model_module_version": "1.2.0",
          "state": {
            "_model_module": "@jupyter-widgets/base",
            "_model_module_version": "1.2.0",
            "_model_name": "LayoutModel",
            "_view_count": null,
            "_view_module": "@jupyter-widgets/base",
            "_view_module_version": "1.2.0",
            "_view_name": "LayoutView",
            "align_content": null,
            "align_items": null,
            "align_self": null,
            "border": null,
            "bottom": null,
            "display": null,
            "flex": null,
            "flex_flow": null,
            "grid_area": null,
            "grid_auto_columns": null,
            "grid_auto_flow": null,
            "grid_auto_rows": null,
            "grid_column": null,
            "grid_gap": null,
            "grid_row": null,
            "grid_template_areas": null,
            "grid_template_columns": null,
            "grid_template_rows": null,
            "height": null,
            "justify_content": null,
            "justify_items": null,
            "left": null,
            "margin": null,
            "max_height": null,
            "max_width": null,
            "min_height": null,
            "min_width": null,
            "object_fit": null,
            "object_position": null,
            "order": null,
            "overflow": null,
            "overflow_x": null,
            "overflow_y": null,
            "padding": null,
            "right": null,
            "top": null,
            "visibility": null,
            "width": null
          }
        },
        "59f57a5e4ab34399b96839b258975944": {
          "model_module": "@jupyter-widgets/base",
          "model_name": "LayoutModel",
          "model_module_version": "1.2.0",
          "state": {
            "_model_module": "@jupyter-widgets/base",
            "_model_module_version": "1.2.0",
            "_model_name": "LayoutModel",
            "_view_count": null,
            "_view_module": "@jupyter-widgets/base",
            "_view_module_version": "1.2.0",
            "_view_name": "LayoutView",
            "align_content": null,
            "align_items": null,
            "align_self": null,
            "border": null,
            "bottom": null,
            "display": null,
            "flex": null,
            "flex_flow": null,
            "grid_area": null,
            "grid_auto_columns": null,
            "grid_auto_flow": null,
            "grid_auto_rows": null,
            "grid_column": null,
            "grid_gap": null,
            "grid_row": null,
            "grid_template_areas": null,
            "grid_template_columns": null,
            "grid_template_rows": null,
            "height": null,
            "justify_content": null,
            "justify_items": null,
            "left": null,
            "margin": null,
            "max_height": null,
            "max_width": null,
            "min_height": null,
            "min_width": null,
            "object_fit": null,
            "object_position": null,
            "order": null,
            "overflow": null,
            "overflow_x": null,
            "overflow_y": null,
            "padding": null,
            "right": null,
            "top": null,
            "visibility": null,
            "width": null
          }
        },
        "2b5a665d4c524dfca9032d260d8ab63d": {
          "model_module": "@jupyter-widgets/controls",
          "model_name": "DescriptionStyleModel",
          "model_module_version": "1.5.0",
          "state": {
            "_model_module": "@jupyter-widgets/controls",
            "_model_module_version": "1.5.0",
            "_model_name": "DescriptionStyleModel",
            "_view_count": null,
            "_view_module": "@jupyter-widgets/base",
            "_view_module_version": "1.2.0",
            "_view_name": "StyleView",
            "description_width": ""
          }
        },
        "274392ceafa14a68ac13e51927ffe81a": {
          "model_module": "@jupyter-widgets/base",
          "model_name": "LayoutModel",
          "model_module_version": "1.2.0",
          "state": {
            "_model_module": "@jupyter-widgets/base",
            "_model_module_version": "1.2.0",
            "_model_name": "LayoutModel",
            "_view_count": null,
            "_view_module": "@jupyter-widgets/base",
            "_view_module_version": "1.2.0",
            "_view_name": "LayoutView",
            "align_content": null,
            "align_items": null,
            "align_self": null,
            "border": null,
            "bottom": null,
            "display": null,
            "flex": null,
            "flex_flow": null,
            "grid_area": null,
            "grid_auto_columns": null,
            "grid_auto_flow": null,
            "grid_auto_rows": null,
            "grid_column": null,
            "grid_gap": null,
            "grid_row": null,
            "grid_template_areas": null,
            "grid_template_columns": null,
            "grid_template_rows": null,
            "height": null,
            "justify_content": null,
            "justify_items": null,
            "left": null,
            "margin": null,
            "max_height": null,
            "max_width": null,
            "min_height": null,
            "min_width": null,
            "object_fit": null,
            "object_position": null,
            "order": null,
            "overflow": null,
            "overflow_x": null,
            "overflow_y": null,
            "padding": null,
            "right": null,
            "top": null,
            "visibility": null,
            "width": null
          }
        },
        "c2e647c86c7a40fe9b11316138034e6a": {
          "model_module": "@jupyter-widgets/controls",
          "model_name": "ProgressStyleModel",
          "model_module_version": "1.5.0",
          "state": {
            "_model_module": "@jupyter-widgets/controls",
            "_model_module_version": "1.5.0",
            "_model_name": "ProgressStyleModel",
            "_view_count": null,
            "_view_module": "@jupyter-widgets/base",
            "_view_module_version": "1.2.0",
            "_view_name": "StyleView",
            "bar_color": null,
            "description_width": ""
          }
        },
        "193cfbece09c40869df319392a2de818": {
          "model_module": "@jupyter-widgets/base",
          "model_name": "LayoutModel",
          "model_module_version": "1.2.0",
          "state": {
            "_model_module": "@jupyter-widgets/base",
            "_model_module_version": "1.2.0",
            "_model_name": "LayoutModel",
            "_view_count": null,
            "_view_module": "@jupyter-widgets/base",
            "_view_module_version": "1.2.0",
            "_view_name": "LayoutView",
            "align_content": null,
            "align_items": null,
            "align_self": null,
            "border": null,
            "bottom": null,
            "display": null,
            "flex": null,
            "flex_flow": null,
            "grid_area": null,
            "grid_auto_columns": null,
            "grid_auto_flow": null,
            "grid_auto_rows": null,
            "grid_column": null,
            "grid_gap": null,
            "grid_row": null,
            "grid_template_areas": null,
            "grid_template_columns": null,
            "grid_template_rows": null,
            "height": null,
            "justify_content": null,
            "justify_items": null,
            "left": null,
            "margin": null,
            "max_height": null,
            "max_width": null,
            "min_height": null,
            "min_width": null,
            "object_fit": null,
            "object_position": null,
            "order": null,
            "overflow": null,
            "overflow_x": null,
            "overflow_y": null,
            "padding": null,
            "right": null,
            "top": null,
            "visibility": null,
            "width": null
          }
        },
        "e546aabee1294bcfbc450c4439749fc5": {
          "model_module": "@jupyter-widgets/controls",
          "model_name": "DescriptionStyleModel",
          "model_module_version": "1.5.0",
          "state": {
            "_model_module": "@jupyter-widgets/controls",
            "_model_module_version": "1.5.0",
            "_model_name": "DescriptionStyleModel",
            "_view_count": null,
            "_view_module": "@jupyter-widgets/base",
            "_view_module_version": "1.2.0",
            "_view_name": "StyleView",
            "description_width": ""
          }
        },
        "692a737aad0446378c209197b56bc577": {
          "model_module": "@jupyter-widgets/controls",
          "model_name": "HBoxModel",
          "model_module_version": "1.5.0",
          "state": {
            "_dom_classes": [],
            "_model_module": "@jupyter-widgets/controls",
            "_model_module_version": "1.5.0",
            "_model_name": "HBoxModel",
            "_view_count": null,
            "_view_module": "@jupyter-widgets/controls",
            "_view_module_version": "1.5.0",
            "_view_name": "HBoxView",
            "box_style": "",
            "children": [
              "IPY_MODEL_0c3dae1b0100456eae11fe37c79d1459",
              "IPY_MODEL_de5ea6e1b8c64b4cbf13c886f07ff080",
              "IPY_MODEL_1b976dcc8fa34e53b4b6257fbdbf90db"
            ],
            "layout": "IPY_MODEL_bed7d94b22044137850888ffb417006d"
          }
        },
        "0c3dae1b0100456eae11fe37c79d1459": {
          "model_module": "@jupyter-widgets/controls",
          "model_name": "HTMLModel",
          "model_module_version": "1.5.0",
          "state": {
            "_dom_classes": [],
            "_model_module": "@jupyter-widgets/controls",
            "_model_module_version": "1.5.0",
            "_model_name": "HTMLModel",
            "_view_count": null,
            "_view_module": "@jupyter-widgets/controls",
            "_view_module_version": "1.5.0",
            "_view_name": "HTMLView",
            "description": "",
            "description_tooltip": null,
            "layout": "IPY_MODEL_36568247d1384416823f0edb56d623a3",
            "placeholder": "​",
            "style": "IPY_MODEL_e86080104f8b4591b5477e447be0b726",
            "value": "Downloading https://huggingface.co/stanfordnlp/stanza-hy/resolve/v1.4.1/models/default.zip: 100%"
          }
        },
        "de5ea6e1b8c64b4cbf13c886f07ff080": {
          "model_module": "@jupyter-widgets/controls",
          "model_name": "FloatProgressModel",
          "model_module_version": "1.5.0",
          "state": {
            "_dom_classes": [],
            "_model_module": "@jupyter-widgets/controls",
            "_model_module_version": "1.5.0",
            "_model_name": "FloatProgressModel",
            "_view_count": null,
            "_view_module": "@jupyter-widgets/controls",
            "_view_module_version": "1.5.0",
            "_view_name": "ProgressView",
            "bar_style": "success",
            "description": "",
            "description_tooltip": null,
            "layout": "IPY_MODEL_90fc68323ea541c9abe06786bef44567",
            "max": 454395920,
            "min": 0,
            "orientation": "horizontal",
            "style": "IPY_MODEL_cb1820e11dee497b8efa761930c8166c",
            "value": 454395920
          }
        },
        "1b976dcc8fa34e53b4b6257fbdbf90db": {
          "model_module": "@jupyter-widgets/controls",
          "model_name": "HTMLModel",
          "model_module_version": "1.5.0",
          "state": {
            "_dom_classes": [],
            "_model_module": "@jupyter-widgets/controls",
            "_model_module_version": "1.5.0",
            "_model_name": "HTMLModel",
            "_view_count": null,
            "_view_module": "@jupyter-widgets/controls",
            "_view_module_version": "1.5.0",
            "_view_name": "HTMLView",
            "description": "",
            "description_tooltip": null,
            "layout": "IPY_MODEL_120a7ffef4df4c7c83841433f4f90881",
            "placeholder": "​",
            "style": "IPY_MODEL_d4abea6c2dc144c1b986940dfd79320f",
            "value": " 454M/454M [00:04&lt;00:00, 99.5MB/s]"
          }
        },
        "bed7d94b22044137850888ffb417006d": {
          "model_module": "@jupyter-widgets/base",
          "model_name": "LayoutModel",
          "model_module_version": "1.2.0",
          "state": {
            "_model_module": "@jupyter-widgets/base",
            "_model_module_version": "1.2.0",
            "_model_name": "LayoutModel",
            "_view_count": null,
            "_view_module": "@jupyter-widgets/base",
            "_view_module_version": "1.2.0",
            "_view_name": "LayoutView",
            "align_content": null,
            "align_items": null,
            "align_self": null,
            "border": null,
            "bottom": null,
            "display": null,
            "flex": null,
            "flex_flow": null,
            "grid_area": null,
            "grid_auto_columns": null,
            "grid_auto_flow": null,
            "grid_auto_rows": null,
            "grid_column": null,
            "grid_gap": null,
            "grid_row": null,
            "grid_template_areas": null,
            "grid_template_columns": null,
            "grid_template_rows": null,
            "height": null,
            "justify_content": null,
            "justify_items": null,
            "left": null,
            "margin": null,
            "max_height": null,
            "max_width": null,
            "min_height": null,
            "min_width": null,
            "object_fit": null,
            "object_position": null,
            "order": null,
            "overflow": null,
            "overflow_x": null,
            "overflow_y": null,
            "padding": null,
            "right": null,
            "top": null,
            "visibility": null,
            "width": null
          }
        },
        "36568247d1384416823f0edb56d623a3": {
          "model_module": "@jupyter-widgets/base",
          "model_name": "LayoutModel",
          "model_module_version": "1.2.0",
          "state": {
            "_model_module": "@jupyter-widgets/base",
            "_model_module_version": "1.2.0",
            "_model_name": "LayoutModel",
            "_view_count": null,
            "_view_module": "@jupyter-widgets/base",
            "_view_module_version": "1.2.0",
            "_view_name": "LayoutView",
            "align_content": null,
            "align_items": null,
            "align_self": null,
            "border": null,
            "bottom": null,
            "display": null,
            "flex": null,
            "flex_flow": null,
            "grid_area": null,
            "grid_auto_columns": null,
            "grid_auto_flow": null,
            "grid_auto_rows": null,
            "grid_column": null,
            "grid_gap": null,
            "grid_row": null,
            "grid_template_areas": null,
            "grid_template_columns": null,
            "grid_template_rows": null,
            "height": null,
            "justify_content": null,
            "justify_items": null,
            "left": null,
            "margin": null,
            "max_height": null,
            "max_width": null,
            "min_height": null,
            "min_width": null,
            "object_fit": null,
            "object_position": null,
            "order": null,
            "overflow": null,
            "overflow_x": null,
            "overflow_y": null,
            "padding": null,
            "right": null,
            "top": null,
            "visibility": null,
            "width": null
          }
        },
        "e86080104f8b4591b5477e447be0b726": {
          "model_module": "@jupyter-widgets/controls",
          "model_name": "DescriptionStyleModel",
          "model_module_version": "1.5.0",
          "state": {
            "_model_module": "@jupyter-widgets/controls",
            "_model_module_version": "1.5.0",
            "_model_name": "DescriptionStyleModel",
            "_view_count": null,
            "_view_module": "@jupyter-widgets/base",
            "_view_module_version": "1.2.0",
            "_view_name": "StyleView",
            "description_width": ""
          }
        },
        "90fc68323ea541c9abe06786bef44567": {
          "model_module": "@jupyter-widgets/base",
          "model_name": "LayoutModel",
          "model_module_version": "1.2.0",
          "state": {
            "_model_module": "@jupyter-widgets/base",
            "_model_module_version": "1.2.0",
            "_model_name": "LayoutModel",
            "_view_count": null,
            "_view_module": "@jupyter-widgets/base",
            "_view_module_version": "1.2.0",
            "_view_name": "LayoutView",
            "align_content": null,
            "align_items": null,
            "align_self": null,
            "border": null,
            "bottom": null,
            "display": null,
            "flex": null,
            "flex_flow": null,
            "grid_area": null,
            "grid_auto_columns": null,
            "grid_auto_flow": null,
            "grid_auto_rows": null,
            "grid_column": null,
            "grid_gap": null,
            "grid_row": null,
            "grid_template_areas": null,
            "grid_template_columns": null,
            "grid_template_rows": null,
            "height": null,
            "justify_content": null,
            "justify_items": null,
            "left": null,
            "margin": null,
            "max_height": null,
            "max_width": null,
            "min_height": null,
            "min_width": null,
            "object_fit": null,
            "object_position": null,
            "order": null,
            "overflow": null,
            "overflow_x": null,
            "overflow_y": null,
            "padding": null,
            "right": null,
            "top": null,
            "visibility": null,
            "width": null
          }
        },
        "cb1820e11dee497b8efa761930c8166c": {
          "model_module": "@jupyter-widgets/controls",
          "model_name": "ProgressStyleModel",
          "model_module_version": "1.5.0",
          "state": {
            "_model_module": "@jupyter-widgets/controls",
            "_model_module_version": "1.5.0",
            "_model_name": "ProgressStyleModel",
            "_view_count": null,
            "_view_module": "@jupyter-widgets/base",
            "_view_module_version": "1.2.0",
            "_view_name": "StyleView",
            "bar_color": null,
            "description_width": ""
          }
        },
        "120a7ffef4df4c7c83841433f4f90881": {
          "model_module": "@jupyter-widgets/base",
          "model_name": "LayoutModel",
          "model_module_version": "1.2.0",
          "state": {
            "_model_module": "@jupyter-widgets/base",
            "_model_module_version": "1.2.0",
            "_model_name": "LayoutModel",
            "_view_count": null,
            "_view_module": "@jupyter-widgets/base",
            "_view_module_version": "1.2.0",
            "_view_name": "LayoutView",
            "align_content": null,
            "align_items": null,
            "align_self": null,
            "border": null,
            "bottom": null,
            "display": null,
            "flex": null,
            "flex_flow": null,
            "grid_area": null,
            "grid_auto_columns": null,
            "grid_auto_flow": null,
            "grid_auto_rows": null,
            "grid_column": null,
            "grid_gap": null,
            "grid_row": null,
            "grid_template_areas": null,
            "grid_template_columns": null,
            "grid_template_rows": null,
            "height": null,
            "justify_content": null,
            "justify_items": null,
            "left": null,
            "margin": null,
            "max_height": null,
            "max_width": null,
            "min_height": null,
            "min_width": null,
            "object_fit": null,
            "object_position": null,
            "order": null,
            "overflow": null,
            "overflow_x": null,
            "overflow_y": null,
            "padding": null,
            "right": null,
            "top": null,
            "visibility": null,
            "width": null
          }
        },
        "d4abea6c2dc144c1b986940dfd79320f": {
          "model_module": "@jupyter-widgets/controls",
          "model_name": "DescriptionStyleModel",
          "model_module_version": "1.5.0",
          "state": {
            "_model_module": "@jupyter-widgets/controls",
            "_model_module_version": "1.5.0",
            "_model_name": "DescriptionStyleModel",
            "_view_count": null,
            "_view_module": "@jupyter-widgets/base",
            "_view_module_version": "1.2.0",
            "_view_name": "StyleView",
            "description_width": ""
          }
        }
      }
    }
  },
  "cells": [
    {
      "cell_type": "markdown",
      "metadata": {
        "id": "view-in-github",
        "colab_type": "text"
      },
      "source": [
        "<a href=\"https://colab.research.google.com/github/bogdanbabych/-0945BUT10211-lex-term/blob/main/S101lemHYstanza.ipynb\" target=\"_parent\"><img src=\"https://colab.research.google.com/assets/colab-badge.svg\" alt=\"Open In Colab\"/></a>"
      ]
    },
    {
      "cell_type": "markdown",
      "source": [
        "## Armenian lemmatization with Stanza"
      ],
      "metadata": {
        "id": "skix7t6sFaZB"
      }
    },
    {
      "cell_type": "code",
      "source": [
        "!wc /content/texts-vert/*"
      ],
      "metadata": {
        "id": "2pxVgcv1qvxB"
      },
      "execution_count": null,
      "outputs": []
    },
    {
      "cell_type": "markdown",
      "source": [
        "## downloading evaluation sets\n",
        "- 420 words: test with about 420 words of Armenian text\n",
        "- Armenian \"Brown-type\" corpus b"
      ],
      "metadata": {
        "id": "fFBRX6lTFfcA"
      }
    },
    {
      "cell_type": "code",
      "source": [
        "### optional\n",
        "!wget https://heibox.uni-heidelberg.de/f/ce6096da570f47b99500/?dl=1"
      ],
      "metadata": {
        "id": "m549clSLFHs_"
      },
      "execution_count": null,
      "outputs": []
    },
    {
      "cell_type": "code",
      "source": [
        "### optional\n",
        "!mv index.html?dl=1 evaluation-set-v01.txt"
      ],
      "metadata": {
        "id": "eI_j8KDdFRCe"
      },
      "execution_count": null,
      "outputs": []
    },
    {
      "cell_type": "code",
      "source": [
        "!wget https://heibox.uni-heidelberg.de/f/a847a12bffd4491f9070/?dl=1\n"
      ],
      "metadata": {
        "id": "IWwqNLkxPMfB"
      },
      "execution_count": null,
      "outputs": []
    },
    {
      "cell_type": "code",
      "source": [
        "!mv index.html?dl=1 TED2020-dehy-hy-aa"
      ],
      "metadata": {
        "id": "0QkNxyeRPb7W"
      },
      "execution_count": null,
      "outputs": []
    },
    {
      "cell_type": "code",
      "source": [
        "### downloading Armenian Wikipedia\n",
        "!wget https://heibox.uni-heidelberg.de/f/d1f866a61bd545318213/?dl=1\n",
        "!mv index.html?dl=1 hywiki-20221101-pages-articles.txt.gz\n",
        "!gunzip hywiki-20221101-pages-articles.txt.gz"
      ],
      "metadata": {
        "id": "j_-b-YYGq8bw"
      },
      "execution_count": null,
      "outputs": []
    },
    {
      "cell_type": "code",
      "source": [
        "!wc hywiki-20221101-pages-articles.txt"
      ],
      "metadata": {
        "colab": {
          "base_uri": "https://localhost:8080/"
        },
        "id": "SQMJimofsTMd",
        "outputId": "b72457fb-481d-43e0-ce2e-e316e72ec3b8"
      },
      "execution_count": null,
      "outputs": [
        {
          "output_type": "stream",
          "name": "stdout",
          "text": [
            "  2446411  56341167 803098410 hywiki-20221101-pages-articles.txt\n"
          ]
        }
      ]
    },
    {
      "cell_type": "markdown",
      "source": [
        "## Installing stanza"
      ],
      "metadata": {
        "id": "i__aUXulFkw2"
      }
    },
    {
      "cell_type": "code",
      "execution_count": null,
      "metadata": {
        "id": "GdzVArLUF3cb"
      },
      "outputs": [],
      "source": [
        "!pip install spacy-stanza"
      ]
    },
    {
      "cell_type": "code",
      "source": [
        "import stanza\n",
        "import spacy_stanza\n"
      ],
      "metadata": {
        "id": "-VN9g4N4GAR2"
      },
      "execution_count": null,
      "outputs": []
    },
    {
      "cell_type": "markdown",
      "source": [
        "### testing English stanza (optional)"
      ],
      "metadata": {
        "id": "w6Kfwj63FzYM"
      }
    },
    {
      "cell_type": "code",
      "source": [
        "# optional\n",
        "# Download the stanza model if necessary\n",
        "stanza.download(\"en\")\n",
        "\n",
        "# Initialize the pipeline\n",
        "nlp = spacy_stanza.load_pipeline(\"en\")\n",
        "\n",
        "doc = nlp(\"Barack Obama was born in Hawaii. He was elected president in 2008.\")\n",
        "for token in doc:\n",
        "    print(token.text, token.lemma_, token.pos_, token.dep_, token.ent_type_)\n",
        "print(doc.ents)"
      ],
      "metadata": {
        "id": "dEA7KJdZPrWV"
      },
      "execution_count": null,
      "outputs": []
    },
    {
      "cell_type": "markdown",
      "source": [
        "### downloading and testing Armenian stanza"
      ],
      "metadata": {
        "id": "HGyKxEJNGG8q"
      }
    },
    {
      "cell_type": "code",
      "source": [
        "stanza.download(\"hy\")\n"
      ],
      "metadata": {
        "id": "xq53mDsUGumV",
        "outputId": "1129edb5-99ab-46ba-cd9c-fa124f3ee88e",
        "colab": {
          "base_uri": "https://localhost:8080/",
          "height": 229,
          "referenced_widgets": [
            "0cab7b425aa240b89fb1b4f115536a5e",
            "d5a55a6caafa424c8d0aca97f9201883",
            "8ce1ee50c8bc44bf9cdd0eb54e37fb7d",
            "91ebd12398cd44e6abbc3b92bb5a4eff",
            "68aa7ee87c84411e9b1dfe24e012bdba",
            "59f57a5e4ab34399b96839b258975944",
            "2b5a665d4c524dfca9032d260d8ab63d",
            "274392ceafa14a68ac13e51927ffe81a",
            "c2e647c86c7a40fe9b11316138034e6a",
            "193cfbece09c40869df319392a2de818",
            "e546aabee1294bcfbc450c4439749fc5",
            "692a737aad0446378c209197b56bc577",
            "0c3dae1b0100456eae11fe37c79d1459",
            "de5ea6e1b8c64b4cbf13c886f07ff080",
            "1b976dcc8fa34e53b4b6257fbdbf90db",
            "bed7d94b22044137850888ffb417006d",
            "36568247d1384416823f0edb56d623a3",
            "e86080104f8b4591b5477e447be0b726",
            "90fc68323ea541c9abe06786bef44567",
            "cb1820e11dee497b8efa761930c8166c",
            "120a7ffef4df4c7c83841433f4f90881",
            "d4abea6c2dc144c1b986940dfd79320f"
          ]
        }
      },
      "execution_count": 3,
      "outputs": [
        {
          "output_type": "display_data",
          "data": {
            "text/plain": [
              "Downloading https://raw.githubusercontent.com/stanfordnlp/stanza-resources/main/resources_1.4.1.json:   0%|   …"
            ],
            "application/vnd.jupyter.widget-view+json": {
              "version_major": 2,
              "version_minor": 0,
              "model_id": "0cab7b425aa240b89fb1b4f115536a5e"
            }
          },
          "metadata": {}
        },
        {
          "output_type": "stream",
          "name": "stderr",
          "text": [
            "INFO:stanza:Downloading default packages for language: hy (Armenian) ...\n"
          ]
        },
        {
          "output_type": "display_data",
          "data": {
            "text/plain": [
              "Downloading https://huggingface.co/stanfordnlp/stanza-hy/resolve/v1.4.1/models/default.zip:   0%|          | 0…"
            ],
            "application/vnd.jupyter.widget-view+json": {
              "version_major": 2,
              "version_minor": 0,
              "model_id": "692a737aad0446378c209197b56bc577"
            }
          },
          "metadata": {}
        },
        {
          "output_type": "stream",
          "name": "stderr",
          "text": [
            "INFO:stanza:Finished downloading models and saved to /root/stanza_resources.\n"
          ]
        }
      ]
    },
    {
      "cell_type": "code",
      "source": [
        "nlp_hy = spacy_stanza.load_pipeline(\"hy\")"
      ],
      "metadata": {
        "id": "KZKOs0aVG8Kl"
      },
      "execution_count": null,
      "outputs": []
    },
    {
      "cell_type": "code",
      "source": [
        "### optional\n",
        "doc = nlp_hy(\"ՄԱՐԴՈՒ ԻՐԱՎՈՒՆՔՆԵՐԻ ՀԱՄԸՆԴՀԱՆՈՒՐ ՀՌՉԱԿԱԳԻՐ. ՆԵՐԱԾԱԿԱՆ. Քանզի մարդկային ընտանիքի բոլոր անդամներին ներհատուկ արժանապատվությունըև հավասար ու անօտարելի իրավունքները աշխարհի ազատության, արդարության ու խաղաղության հիմքն են.\")"
      ],
      "metadata": {
        "id": "m022wp2JHvOO"
      },
      "execution_count": null,
      "outputs": []
    },
    {
      "cell_type": "code",
      "source": [
        "### optional\n",
        "for token in doc:\n",
        "    print(token.text, token.lemma_, token.pos_, token.dep_, token.ent_type_)\n"
      ],
      "metadata": {
        "id": "LPhSOX15ICmG"
      },
      "execution_count": null,
      "outputs": []
    },
    {
      "cell_type": "markdown",
      "source": [
        "### full analysis of the file (optional)\n",
        "- includes dependency parsing"
      ],
      "metadata": {
        "id": "NVyvpuMDQXYA"
      }
    },
    {
      "cell_type": "code",
      "source": [
        "### optional\n",
        "with open('/content/TED2020-dehy-hy-aa', 'r', encoding='utf-8') as infile, open('/content/TED2020-dehy-hy-aa-ANALYSIS-full-v01.txt', 'w') as outfile:\n",
        "    # read sample.txt an and write its content into sample2.txt\n",
        "    outfile.write(\"{token.text}\\t{token.lemma_}\\t{token.pos_}\\t{token.dep_}\\t{parentLem}\\t{LAncestors}\\n\")\n",
        "    for line in infile:\n",
        "        line = line.strip()\n",
        "        doc = nlp_hy(line)\n",
        "        # outfile.write(line + '\\n')\n",
        "        for token in doc:\n",
        "            LAncestors = list(token.ancestors)\n",
        "            print(str(LAncestors))\n",
        "            try:\n",
        "                SLAncestors = str(list(token.ancestors))\n",
        "                parent = LAncestors[0]\n",
        "                parentLem = parent.lemma_\n",
        "            except:\n",
        "                parentLem = \"NONE\"\n",
        "            outfile.write(f\"{token.text}\\t{token.lemma_}\\t{token.pos_}\\t{token.dep_}\\t{parentLem}\\t{SLAncestors}\\n\")\n",
        " "
      ],
      "metadata": {
        "id": "HJdW66EmJI2d"
      },
      "execution_count": null,
      "outputs": []
    },
    {
      "cell_type": "markdown",
      "source": [
        "### function for lemmatization"
      ],
      "metadata": {
        "id": "_w7MrFvNQqxq"
      }
    },
    {
      "cell_type": "code",
      "source": [
        "def parseFile(iFileName, oFileName, nlp_model = nlp_hy):\n",
        "    with open(iFileName, 'r', encoding='utf-8') as infile, open(oFileName, 'w') as outfile:\n",
        "        # read sample.txt an and write its content into sample2.txt\n",
        "        outfile.write(\"{token.text}\\t{token.pos_}\\t{token.lemma_}\\n\")\n",
        "        c = 0\n",
        "        for line in infile:\n",
        "            c+=1\n",
        "            if c%10 == 0: print(str(c))\n",
        "            line = line.strip()\n",
        "            doc = nlp_model(line)\n",
        "            # outfile.write(line + '\\n')\n",
        "            for token in doc:\n",
        "                LAncestors = list(token.ancestors)\n",
        "                # print(str(LAncestors))\n",
        "                try:\n",
        "                    SLAncestors = str(list(token.ancestors))\n",
        "                    parent = LAncestors[0]\n",
        "                    parentLem = parent.lemma_\n",
        "                except:\n",
        "                    parentLem = \"NONE\"\n",
        "                outfile.write(f\"{token.text}\\t{token.pos_}\\t{token.lemma_}\\n\")\n",
        " \n",
        "    return\n"
      ],
      "metadata": {
        "id": "QT0tpHwjY4O5"
      },
      "execution_count": 5,
      "outputs": []
    },
    {
      "cell_type": "markdown",
      "source": [
        "### command to lemmatize the file"
      ],
      "metadata": {
        "id": "FJoxNaZ7vfVe"
      }
    },
    {
      "cell_type": "code",
      "source": [
        "parseFile('/content/TED2020-dehy-hy-aa', '/content/TED2020-dehy-hy-aa--lemmatization-v01.txt', nlp_hy)"
      ],
      "metadata": {
        "id": "rgdb1fl3a6F4",
        "colab": {
          "base_uri": "https://localhost:8080/"
        },
        "outputId": "bf97ebf0-cf21-47d7-a370-efd54489e93a"
      },
      "execution_count": null,
      "outputs": [
        {
          "output_type": "stream",
          "name": "stdout",
          "text": [
            "10\n",
            "20\n",
            "30\n",
            "40\n",
            "50\n",
            "60\n",
            "70\n",
            "80\n"
          ]
        }
      ]
    },
    {
      "cell_type": "code",
      "source": [
        "parseFile('hywiki-20221101-pages-articles.txt', 'hywiki-20221101-pages-articles.vert', nlp_hy)"
      ],
      "metadata": {
        "id": "lrSvU_NbsZ9z"
      },
      "execution_count": null,
      "outputs": []
    },
    {
      "cell_type": "markdown",
      "source": [
        "## Checking OCR errors\n",
        "### wikipedia lemmatized --> frequency dictionary "
      ],
      "metadata": {
        "id": "Disi8bxMhOD1"
      }
    },
    {
      "cell_type": "code",
      "source": [
        "!wget https://heibox.uni-heidelberg.de/f/5b3213f991f84ca496ba/?dl=1\n",
        "!mv index.html?dl=1 hywiki-20221101-pages-articles-v03.vert"
      ],
      "metadata": {
        "id": "lhs5GwRihMxr"
      },
      "execution_count": null,
      "outputs": []
    },
    {
      "cell_type": "code",
      "source": [
        "!wc hywiki-20221101-pages-articles-v03.vert"
      ],
      "metadata": {
        "id": "xJlX-J5ij72h"
      },
      "execution_count": null,
      "outputs": []
    },
    {
      "cell_type": "code",
      "source": [
        "!wget https://heibox.uni-heidelberg.de/f/350790e66ca24efdab1a/?dl=1\n",
        "!mv index.html?dl=1 hy-texts-vert.tgz \n",
        "!tar xvzf hy-texts-vert.tgz"
      ],
      "metadata": {
        "id": "dtxtpTo_mTSw"
      },
      "execution_count": null,
      "outputs": []
    },
    {
      "cell_type": "code",
      "source": [
        "!wget https://heibox.uni-heidelberg.de/f/d601ceb0af5a4671a8e7/?dl=1\n",
        "!mv index.html?dl=1 Parfum_Arm_ABBY.txt"
      ],
      "metadata": {
        "id": "2LPlwmpYsSt-"
      },
      "execution_count": null,
      "outputs": []
    },
    {
      "cell_type": "code",
      "source": [
        "parseFile('Parfum_Arm_ABBY.txt', 'Parfum_Arm_ABBY.vert.txt', nlp_hy)"
      ],
      "metadata": {
        "id": "ZnrYlLB_uRsH"
      },
      "execution_count": null,
      "outputs": []
    },
    {
      "cell_type": "code",
      "source": [
        "!wget https://heibox.uni-heidelberg.de/f/743a1a57a37c42d8b585/?dl=1\n",
        "!mv index.html?dl=1 Parfum_Armenian_uncorrected.txt\n"
      ],
      "metadata": {
        "id": "D-Qu1FP8mbO6",
        "outputId": "7b928a46-b137-4212-c45f-6c61a9f69286",
        "colab": {
          "base_uri": "https://localhost:8080/"
        }
      },
      "execution_count": 10,
      "outputs": [
        {
          "output_type": "stream",
          "name": "stdout",
          "text": [
            "--2023-01-30 10:24:54--  https://heibox.uni-heidelberg.de/f/743a1a57a37c42d8b585/?dl=1\n",
            "Resolving heibox.uni-heidelberg.de (heibox.uni-heidelberg.de)... 129.206.7.113\n",
            "Connecting to heibox.uni-heidelberg.de (heibox.uni-heidelberg.de)|129.206.7.113|:443... connected.\n",
            "HTTP request sent, awaiting response... 302 Found\n",
            "Location: https://heibox.uni-heidelberg.de/seafhttp/files/4eab40ed-f7f1-48f2-8dbc-bfd565b75bb5/Parfum_Armenian_uncorrected.txt [following]\n",
            "--2023-01-30 10:24:54--  https://heibox.uni-heidelberg.de/seafhttp/files/4eab40ed-f7f1-48f2-8dbc-bfd565b75bb5/Parfum_Armenian_uncorrected.txt\n",
            "Reusing existing connection to heibox.uni-heidelberg.de:443.\n",
            "HTTP request sent, awaiting response... 200 OK\n",
            "Length: 854251 (834K) [text/plain]\n",
            "Saving to: ‘index.html?dl=1’\n",
            "\n",
            "index.html?dl=1     100%[===================>] 834.23K  1.08MB/s    in 0.8s    \n",
            "\n",
            "2023-01-30 10:24:55 (1.08 MB/s) - ‘index.html?dl=1’ saved [854251/854251]\n",
            "\n"
          ]
        }
      ]
    },
    {
      "cell_type": "code",
      "source": [
        "# dealing with Armenian OCR output with line breaks (is it correct?)\n",
        "\n",
        "FName = 'Parfum_Armenian_uncorrected.txt'\n",
        "FNameOut = 'Parfum_Armenian.txt'\n",
        "\n",
        "FIn = open(FName, 'r')\n",
        "FOut = open(FNameOut, 'w')\n",
        "\n",
        "for SLine in FIn:\n",
        "    SLine = SLine.strip()\n",
        "    if SLine == '': \n",
        "        FOut.write('\\n\\n')\n",
        "        continue\n",
        "    if SLine[-1] == '-':\n",
        "        SLine2write = SLine[:-1]\n",
        "        FOut.write(SLine2write)\n",
        "        continue\n",
        "\n",
        "    FOut.write(SLine + ' ')\n",
        "FOut.flush()\n",
        "\n"
      ],
      "metadata": {
        "id": "tstyqM_cph11"
      },
      "execution_count": 11,
      "outputs": []
    },
    {
      "cell_type": "code",
      "source": [
        "parseFile('Parfum_Armenian.txt', 'Parfum_Armenian.vert.txt', nlp_hy)"
      ],
      "metadata": {
        "id": "Gf-OW1n_rbue"
      },
      "execution_count": null,
      "outputs": []
    },
    {
      "cell_type": "code",
      "source": [
        "!wc Parfum_Armenian.vert.txt"
      ],
      "metadata": {
        "colab": {
          "base_uri": "https://localhost:8080/"
        },
        "id": "Mpr4kEppuIj_",
        "outputId": "399c5fc9-0f49-4c38-9eba-f4a823e243c1"
      },
      "execution_count": 13,
      "outputs": [
        {
          "output_type": "stream",
          "name": "stdout",
          "text": [
            "  83828  251460 2055080 Parfum_Armenian.vert.txt\n"
          ]
        }
      ]
    },
    {
      "cell_type": "code",
      "source": [
        "DWiki = {}\n",
        "with open(\"hywiki-20221101-pages-articles-v03.vert\", 'r') as f:\n",
        "    for line in f:\n",
        "        line = line.rstrip()\n",
        "        try:\n",
        "            DWiki[line] +=1\n",
        "        except:\n",
        "            DWiki[line] = 1\n"
      ],
      "metadata": {
        "id": "5TJS8qstj_5I"
      },
      "execution_count": 14,
      "outputs": []
    },
    {
      "cell_type": "code",
      "source": [
        "DText = {}\n",
        "with open(\"Parfum_Armenian.vert.txt\", 'r') as f:\n",
        "    for line in f:\n",
        "        line = line.rstrip()\n",
        "        try:\n",
        "            DText[line] +=1\n",
        "        except:\n",
        "            DText[line] = 1\n"
      ],
      "metadata": {
        "id": "exBjjf9rkMxJ"
      },
      "execution_count": 15,
      "outputs": []
    },
    {
      "cell_type": "markdown",
      "source": [
        "### checking if there is a frequency difference for an entry"
      ],
      "metadata": {
        "id": "lNz9tWIKuy0L"
      }
    },
    {
      "cell_type": "code",
      "source": [
        "DFreqDiff = {} # dictionary of frequency differences\n",
        "lenWiki = 2735468\n",
        "lenText = 83829\n",
        "c = 0\n",
        "for key, val in sorted(DText.items(), key=lambda item: item[1], reverse=True):\n",
        "    c+=1\n",
        "    valText = val + 1\n",
        "    relText = valText / lenText\n",
        "    try:\n",
        "        valWiki = DWiki[key] + 1\n",
        "    except:\n",
        "        valWiki = 1\n",
        "    relWiki = valWiki / lenWiki\n",
        "\n",
        "    diffValue = relText / relWiki\n",
        "    DFreqDiff[key] = diffValue\n"
      ],
      "metadata": {
        "id": "ewfn2ngSu6sK"
      },
      "execution_count": 16,
      "outputs": []
    },
    {
      "cell_type": "code",
      "source": [
        "fOut = open('Parfum_Armenian-freq-diff.txt', 'w')\n",
        "for key, val in sorted(DFreqDiff.items(), key=lambda item: item[1], reverse=True):\n",
        "    try:\n",
        "        frqText = DText[key] + 1\n",
        "    except:\n",
        "        frqText = 1\n",
        "\n",
        "    try:\n",
        "        frqWiki = DWiki[key] + 1\n",
        "    except:\n",
        "        frqWiki = 1\n",
        "    fOut.write(f'{key}\\t{val}\\t{frqText}\\t{frqWiki}\\n')\n",
        "fOut.flush()"
      ],
      "metadata": {
        "id": "v3TNjk49xxPC"
      },
      "execution_count": 17,
      "outputs": []
    },
    {
      "cell_type": "code",
      "source": [
        "cat texts-vert/* >text-vert-all.vert.txt"
      ],
      "metadata": {
        "id": "rBODLGvH0_Xe"
      },
      "execution_count": 18,
      "outputs": []
    },
    {
      "cell_type": "code",
      "source": [
        "!wc text-vert-all.vert.txt"
      ],
      "metadata": {
        "id": "vGRyIth63pks",
        "outputId": "9d74a681-83cb-4c4e-b217-aaeac6d519e2",
        "colab": {
          "base_uri": "https://localhost:8080/"
        }
      },
      "execution_count": 19,
      "outputs": [
        {
          "output_type": "stream",
          "name": "stdout",
          "text": [
            " 112723  338169 3062358 text-vert-all.vert.txt\n"
          ]
        }
      ]
    },
    {
      "cell_type": "code",
      "source": [
        "DText2 = {}\n",
        "with open(\"text-vert-all.vert.txt\", 'r') as f:\n",
        "    for line in f:\n",
        "        line = line.rstrip()\n",
        "        try:\n",
        "            DText2[line] +=1\n",
        "        except:\n",
        "            DText2[line] = 1"
      ],
      "metadata": {
        "id": "mxkmuk223eEr"
      },
      "execution_count": 20,
      "outputs": []
    },
    {
      "cell_type": "code",
      "source": [
        "DFreqDiff2 = {} # dictionary of frequency differences\n",
        "lenWiki = 2735468\n",
        "lenText = 112723\n",
        "c = 0\n",
        "for key, val in sorted(DText2.items(), key=lambda item: item[1], reverse=True):\n",
        "    c+=1\n",
        "    valText = val + 1\n",
        "    relText = valText / lenText\n",
        "    try:\n",
        "        valWiki = DWiki[key] + 1\n",
        "    except:\n",
        "        valWiki = 1\n",
        "    relWiki = valWiki / lenWiki\n",
        "\n",
        "    diffValue = relText / relWiki\n",
        "    DFreqDiff2[key] = diffValue\n"
      ],
      "metadata": {
        "id": "4XnwSDmF3j-D"
      },
      "execution_count": 21,
      "outputs": []
    },
    {
      "cell_type": "code",
      "source": [
        "fOut = open('text-vert-all-freq-diff.txt', 'w')\n",
        "for key, val in sorted(DFreqDiff2.items(), key=lambda item: item[1], reverse=True):\n",
        "    try:\n",
        "        frqText = DText2[key] + 1\n",
        "    except:\n",
        "        frqText = 1\n",
        "\n",
        "    try:\n",
        "        frqWiki = DWiki[key] + 1\n",
        "    except:\n",
        "        frqWiki = 1\n",
        "    fOut.write(f'{key}\\t{val}\\t{frqText}\\t{frqWiki}\\n')\n",
        "fOut.flush()"
      ],
      "metadata": {
        "id": "6gKv0TaC39NL"
      },
      "execution_count": 22,
      "outputs": []
    },
    {
      "cell_type": "markdown",
      "source": [
        "## Reading corrected file and discovering rewrite rules\n",
        "- common prefix; common suffix\n",
        "- remaining string to rewrite\n"
      ],
      "metadata": {
        "id": "Qak75Zf9hl0t"
      }
    },
    {
      "cell_type": "code",
      "source": [
        "# Dowloading the file with corrections\n",
        "!wget https://heibox.uni-heidelberg.de/f/82b78c77a7bd4eff955d/?dl=1\n",
        "!mv index.html?dl=1 Parfum_Armenian-freq-diff-all.tsv"
      ],
      "metadata": {
        "id": "LkJFnc3yh3PD"
      },
      "execution_count": null,
      "outputs": []
    },
    {
      "cell_type": "code",
      "source": [
        "def readCorrections(colNumberOri, colNumberCorrect, SFIn, SFOut = None):\n",
        "    LTWrongCorrect = []\n",
        "    FOut = open(SFOut, 'w')\n",
        "    with open(SFIn, 'r') as FIn:\n",
        "        count = 0\n",
        "        for SLine in FIn:\n",
        "            count += 1\n",
        "            if count == 1: continue\n",
        "            SLine = SLine.strip()\n",
        "            LLine = SLine.split('\\t')\n",
        "            SWrong = LLine[colNumberOri]\n",
        "            SCorrect = LLine[colNumberCorrect]\n",
        "            if SWrong != '' and SCorrect != '' and SWrong != SCorrect:\n",
        "                TWrongCorrect = (SWrong, SCorrect)\n",
        "                LTWrongCorrect.append(TWrongCorrect)\n",
        "    if SFOut:\n",
        "        for SWrong, SCorrect in LTWrongCorrect:\n",
        "            FOut.write(f'{SWrong}\\t{SCorrect}\\n')    \n",
        "        FOut.flush()\n",
        "\n",
        "    return LTWrongCorrect"
      ],
      "metadata": {
        "id": "VlBmzm25qlbC"
      },
      "execution_count": 24,
      "outputs": []
    },
    {
      "cell_type": "code",
      "source": [
        "LTWrongCorrectW = readCorrections(1, 4, '/content/Parfum_Armenian-freq-diff-all.tsv', SFOut = 'Parfum_Armenian-freq-diff-WrCoWForm.tsv')"
      ],
      "metadata": {
        "id": "WWBdvnSIueGP"
      },
      "execution_count": 25,
      "outputs": []
    },
    {
      "cell_type": "code",
      "source": [
        "LTWrongCorrectL = readCorrections(3, 6, '/content/Parfum_Armenian-freq-diff-all.tsv', SFOut = 'Parfum_Armenian-freq-diff-WrCoLems.tsv')"
      ],
      "metadata": {
        "id": "7zVWK5qEvxwa"
      },
      "execution_count": 26,
      "outputs": []
    },
    {
      "cell_type": "code",
      "source": [
        "# functions to compare two strings\n",
        "import os\n",
        "def getCmnPrefix(S1, S2):\n",
        "    common = os.path.commonprefix([S1, S2])\n",
        "    return common\n",
        "\n",
        "\n",
        "def getCmnSuffix(S1,S2):\n",
        "    S1r = S1[::-1]\n",
        "    S2r = S2[::-1]\n",
        "    commonR = getCmnPrefix(S1r, S2r)\n",
        "    common = commonR[::-1]\n",
        "    return common\n",
        "\n",
        "def getDifInfix(S1, S2, LContext = 0, RContext = 0):\n",
        "    IPLen = len(getCmnPrefix(S1, S2))\n",
        "    # print('IPLen', IPLen)\n",
        "    ISLen = len(getCmnSuffix(S1, S2))\n",
        "    # print('ISLen', ISLen)\n",
        "    diffInfix1 = S1[IPLen-LContext:-1*(ISLen)+RContext]\n",
        "    # print('S1', S1, IPLen-LContext, -1*(ISLen)+RContext)\n",
        "    diffInfix2 = S2[IPLen-LContext:-1*(ISLen)+RContext]\n",
        "    # print('S2', S2, IPLen-LContext, -1*(ISLen)+RContext)\n",
        "    return(diffInfix1, diffInfix2)\n",
        "\n",
        "def getDifSuffix(S1, S2, LContext = 0):\n",
        "    # used if common suffix == ''\n",
        "    IPLen = len(getCmnPrefix(S1, S2))\n",
        "    # print('IPLen', IPLen)\n",
        "    ISLen = len(getCmnSuffix(S1, S2))\n",
        "    # print('ISLen', ISLen)\n",
        "    if ISLen == 0:\n",
        "        diffSuffix1 = S1[IPLen-LContext:]\n",
        "        diffSuffix2 = S2[IPLen-LContext:]\n",
        "    else:\n",
        "        diffSuffix1 = ''\n",
        "        diffSuffix2 = ''\n",
        "    return(diffSuffix1, diffSuffix2)\n",
        "\n",
        "def getDifPrefix(S1, S2, RContext = 0):\n",
        "    # used if common suffix == ''\n",
        "    IPLen = len(getCmnPrefix(S1, S2))\n",
        "    # print('IPLen', IPLen)\n",
        "    ISLen = len(getCmnSuffix(S1, S2))\n",
        "    # print('ISLen', ISLen)\n",
        "    if IPLen == 0:\n",
        "        diffPrefix1 = S1[:-1*(ISLen)+RContext]\n",
        "        diffPrefix2 = S2[:-1*(ISLen)+RContext]\n",
        "    else:\n",
        "        diffPrefix1 = ''\n",
        "        diffPrefix2 = ''\n",
        "       \n",
        "    return(diffPrefix1, diffPrefix2)\n",
        "\n",
        "def getDiff(S1, S2, LContext = 0, RContext = 0):\n",
        "    IPLen = len(getCmnPrefix(S1, S2))\n",
        "    ISLen = len(getCmnSuffix(S1, S2))\n",
        "    if IPLen and ISLen:\n",
        "        diff1 = S1[IPLen-LContext:-1*(ISLen)+RContext]\n",
        "        diff2 = S2[IPLen-LContext:-1*(ISLen)+RContext]\n",
        "    elif IPLen: # there is a common prefix, find different suffixes\n",
        "        diff1 = S1[IPLen-LContext:]\n",
        "        diff2 = S2[IPLen-LContext:]\n",
        "    elif ISLen: # there is a common suffix, find different prefixes\n",
        "        diff1 = S1[:-1*(ISLen)+RContext]\n",
        "        diff2 = S2[:-1*(ISLen)+RContext]\n",
        "    else:\n",
        "        diff1 = S1\n",
        "        diff2 = S2\n",
        "    return (diff1, diff2)\n",
        "\n"
      ],
      "metadata": {
        "id": "w3nwDAXc_wEq"
      },
      "execution_count": 27,
      "outputs": []
    },
    {
      "cell_type": "code",
      "source": [
        "# first attempt, not used...\n",
        "'''\n",
        "def getDifInfix2X(S1, S2, LContext = 0, RContext = 0):\n",
        "    IPLen = len(getCmnPrefix(S1, S2))\n",
        "    ISLen = len(getCmnSuffix(S1, S2))\n",
        "\n",
        "    if LContext and RContext:\n",
        "        diffInfix1 = S1[IPLen-LContext:-1*(ISLen)+RContext]\n",
        "        diffInfix2 = S2[IPLen-LContext:-1*(ISLen)+RContext]\n",
        "        print('both')\n",
        "    elif LContext:\n",
        "        diffInfix1 = S1[IPLen-LContext:-1*(ISLen)]\n",
        "        diffInfix2 = S2[IPLen-LContext:-1*(ISLen)]\n",
        "        print('left')\n",
        "    elif RContext:\n",
        "        diffInfix1 = S1[IPLen:-1*(ISLen+RContext)]\n",
        "        diffInfix2 = S2[IPLen:-1*(ISLen+RContext)]\n",
        "        print('right')\n",
        "    else:\n",
        "        diffInfix1 = S1[IPLen:-1*ISLen]\n",
        "        diffInfix2 = S2[IPLen:-1*ISLen]\n",
        "        print('no-context')\n",
        "\n",
        "    return(diffInfix1, diffInfix2)\n",
        "\n",
        "\n",
        "\n",
        "def getDifPrefix(S1, S2, RContext = 0):\n",
        "    # used if common prefix == ''\n",
        "    IPLen = len(getCmnPrefix(S1, S2))\n",
        "    # print('IPLen', IPLen)\n",
        "    ISLen = len(getCmnSuffix(S1, S2))\n",
        "    # print('ISLen', ISLen)\n",
        "\n",
        "\n",
        "\n",
        "'''"
      ],
      "metadata": {
        "id": "OiP4EPl2Eene"
      },
      "execution_count": null,
      "outputs": []
    },
    {
      "cell_type": "code",
      "source": [
        "# testing\n",
        "P12 = getCmnPrefix('перепливи', 'перелови')\n",
        "S12 = getCmnSuffix('перепливи', 'перелови')\n",
        "# I1, I2 = getDifInfix('перепливи', 'перелови')\n",
        "# print(P12, S12)\n",
        "# print(I1, I2)\n",
        "\n",
        "I1, I2 = getDifInfix('перепливи', 'перелови', LContext = 0, RContext = 0)\n",
        "print(I1, I2)\n",
        "\n",
        "S1, S2 = getDifSuffix('розгубився', 'розгубивсь', LContext = 0)\n",
        "print(S1, S2)\n",
        "S1, S2 = getDifSuffix('розгубився', 'розгубивс', LContext = 0)\n",
        "print(S1, S2)\n",
        "\n",
        "S1, S2 = getDifPrefix('вловив', 'зловив', RContext = 0)\n",
        "print(S1, S2)\n",
        "S1, S2 = getDifPrefix('ловив', 'зловив', RContext = 0)\n",
        "print(S1, S2)\n",
        "\n",
        "print('new version....')\n",
        "I1, I2 = getDiff('перепливи', 'перелови', LContext = 2, RContext = 2)\n",
        "print(I1, I2)\n",
        "\n",
        "S1, S2 = getDiff('розгубився', 'розгубивсь', LContext = 1)\n",
        "print(S1, S2)\n",
        "S1, S2 = getDiff('розгубився', 'розгубивс', LContext = 1)\n",
        "print(S1, S2)\n",
        "\n",
        "S1, S2 = getDiff('вловив', 'зловив', RContext = 1)\n",
        "print(S1, S2)\n",
        "S1, S2 = getDiff('ловив', 'зловив', RContext = 1)\n",
        "print(S1, S2)\n",
        "\n"
      ],
      "metadata": {
        "colab": {
          "base_uri": "https://localhost:8080/"
        },
        "id": "XrcT9UPL_1G-",
        "outputId": "605dc31e-b93d-4a5b-885f-c0fb07c49b7d"
      },
      "execution_count": 30,
      "outputs": [
        {
          "output_type": "stream",
          "name": "stdout",
          "text": [
            "пли ло\n",
            "я ь\n",
            "я \n",
            "в з\n",
            " з\n",
            "new version....\n",
            " \n",
            "ся сь\n",
            "ся с\n",
            "вл зл\n",
            "л зл\n"
          ]
        }
      ]
    },
    {
      "cell_type": "code",
      "source": [
        "FOut = open('Parfum_Armenian-freq-diff-Changes2.txt', 'w')\n",
        "\n",
        "DChanges = {}\n",
        "for SWrong, SRight in LTWrongCorrectW:\n",
        "    P12 = getCmnPrefix(SWrong, SRight)\n",
        "    S12 = getCmnSuffix(SWrong, SRight)\n",
        "    I1, I2 = getDiff(SWrong, SRight, LContext = 2, RContext = 2)\n",
        "    try:\n",
        "        DChanges[(I1, I2)] += 1\n",
        "    except:\n",
        "        DChanges[(I1, I2)] = 1\n",
        "\n",
        "    print(SWrong, '[' , P12, '<', I1, '|', I2, '>', S12, ']', SRight)\n",
        "    FOut.write(f'{SWrong} [ {P12} < {I1} | {I2} > {S12} ] {SRight}\\n')\n",
        "\n",
        "for SWrong, SRight in LTWrongCorrectL:\n",
        "    P12 = getCmnPrefix(SWrong, SRight)\n",
        "    S12 = getCmnSuffix(SWrong, SRight)\n",
        "    I1, I2 = getDiff(SWrong, SRight, LContext = 2, RContext = 2)\n",
        "    try:\n",
        "        DChanges[(I1, I2)] += 1\n",
        "    except:\n",
        "        DChanges[(I1, I2)] = 1\n",
        "\n",
        "    print(SWrong, '[' , P12, '<', I1, '|', I2, '>', S12, ']', SRight)\n",
        "    FOut.write(f'{SWrong} [ {P12} < {I1} | {I2} > {S12} ] {SRight}\\n')\n",
        "FOut.flush()\n",
        "\n",
        "\n",
        "FOut = open('Parfum_Armenian-freq-diff-ChangeDict2.txt', 'w')\n",
        "for key, value in sorted(DChanges.items(), key=lambda item: item[1], reverse=True):\n",
        "    L, R = key\n",
        "    FOut.write(f'{L}\\t{R}\\t{value}\\n')\n",
        "\n",
        "FOut.flush()\n"
      ],
      "metadata": {
        "colab": {
          "base_uri": "https://localhost:8080/"
        },
        "id": "WYvbFevMLh4f",
        "outputId": "50c4bba2-35ef-43ee-c445-9a9828c99bd6"
      },
      "execution_count": 33,
      "outputs": [
        {
          "output_type": "stream",
          "name": "stdout",
          "text": [
            "մերճակա [ մեր < երճակ | երձակ > ակա ] մերձակա\n",
            "առջն [ առջ < ռջն | ռջև >  ] առջև\n",
            "թեթնություն [ թեթ < եթնու | եթևու > ություն ] թեթևություն\n",
            "Եթենա [  <  |  > նա ] եթե նա\n",
            "ննա [ ն <  |  > նա ] նա\n",
            "ճեռքերն [  < ճեռքերն | ձեռքից >  ] ձեռքից\n",
            "ճայն [  < ճայ | ձայ > այն ] ձայն\n",
            "ճեռքով [  < ճեռ | ձեռ > եռքով ] ձեռքով\n",
            "այլնս [ այլ <  |  > ս ] այլևս\n",
            "ետնի [ ետ < ե | ե > ի ] ետևի\n",
            "կեղնները [ կեղ < եղննե | եղևնե > ները ] կեղևները\n",
            "ճկան [  < ճկա | ձկա > կան ] ձկան\n",
            "ննա [ ն <  |  > նա ] նա\n",
            "բանաձնի [ բանաձ <  |  > ի ] բանաձևի\n",
            "ճեր [  <  |  > եր ] ձեր\n",
            "առնտրական [ առ < առնտր | առևտր > տրական ] առևտրական\n",
            "արնելյան [ ար < արնել | արևել > ելյան ] արևելյան\n",
            "կուղնորվի [ կուղ < ւղնոր | ւղևոր > որվի ] կուղևորվի\n",
            "նս [  < ն | և > ս ] ևս\n",
            "հետնեց [ հետ < ետնեց | ետևել >  ] հետևել\n",
            "նուխիսկ [ նու < ուխիս | ույնիս > իսկ ] նույնիսկ\n",
            "երնույթ [ եր < երնու | երևու > ույթ ] երևույթ\n",
            "քրտնքով [ քրտ < րտնք | րտինք > նքով ] քրտինքով\n",
            "արվարճանում [ արվար < արճան | արձան > անում ] արվարձանում\n",
            "անճամբ [ ան < անճամ | անձամ > ամբ ] անձամբ\n",
            "ճայնը [  < ճայ | ձայ > այնը ] ձայնը\n",
            "ճգվում [  < ճգվ | ձգվ > գվում ] ձգվում\n",
            "ճիու [  < ճիո | ձիո > իու ] ձիու\n",
            "դարճնում [ դար < արճնո | արձնո > նում ] դարձնում\n",
            "ուղնորվում [ ուղ < ւղնորվում | ւղևորվում  >  ] ուղևորվում \n",
            "իջնանատան [ իջ < իջնան | իջևան > անատան ] իջևանատան\n",
            "ճգտում [  < ճգտ | ձգտ > գտում ] ձգտում\n",
            "դրսնորում [ դրս < րսնոր | րսևոր > որում ] դրսևորում\n",
            "արվարճանի [ արվար < արճան | արձան > անի ] արվարձանի\n",
            "ետնում [ ետ < ետնու | ետևու > ում ] ետևում\n",
            "ճնավորված [  < ճնավ | ձևավ > ավորված ] ձևավորված\n",
            "Հետնաբար [  < Հետնաբ | հետևաբ > աբար ] հետևաբար\n",
            "այլնս [ այլ <  |  > ս ] այլևս\n",
            "Շավանաբար [  < Շավ | հավ > ավանաբար ] հավանաբար\n",
            "սկզբիցնեթ [ սկզբից <  |  > եթ ] սկզբիցևեթ\n",
            "միջն [ միջ < իջն | իջև >  ] միջև\n",
            "համաճայնության [ համա <  |  > ն ] համաձայնություն\n",
            "Թերնս [  < Թ | թ > ս ] թերևս\n",
            "տերնի [ տեր < երնի | երև >  ] տերև\n",
            "թնատակերի [ թ < ի | կ >  ] թևատակ\n",
            "դոււս [ դու <  |  > ս ] դուրս\n",
            "բարճրացավ [ բար < արճրացավ | արձրանալ >  ] բարձրանալ\n",
            "երկարատն [ երկարատ < ատն | ատև >  ] երկարատև\n",
            "նախնառաջ [ նախ < ախնառ | ախևառ > առաջ ] նախևառաջ\n",
            "ներքնից [ ներք < րքնից | րքև >  ] ներքև\n",
            "առջնից [ առջ < ռջնից | ռջև >  ] առջև\n",
            "ճեռնոցագործական [  < ճեռ | ձեռ > եռնոցագործական ] ձեռնոցագործական\n",
            "հարնան [  < հար | գար > արնան ] գարնան\n",
            "ճգտումը [  < ճգտ | ձգտ > գտումը ] ձգտումը\n",
            "առջնում [ առջ < ռջնու | ռջևու > ում ] առջևում\n",
            "ճմռանը [  < ճմռ | ձմռ > մռանը ] ձմռանը\n",
            "սնահեր [ ս <  |  > ահեր ] սևահեր\n",
            "ծանրութեթն [ ծանրութեթ < եթն | եթև >  ] ծանրութեթև\n",
            "ճագի [  < ճագ | ձագ > ագի ] ձագի\n",
            "Այլնս [  < Ա | ա > ս ] այլևս\n",
            "ինճ [ ին < ինճ | ինձ >  ] ինձ\n",
            "ճեռքն [  < ճեռ | ձեռ > եռքն ] ձեռքն\n",
            "արճագանք [ ար < արճագ | արձագ > ագանք ] արձագանք\n",
            "ճմեռ [  < ճմե | ձմե > մեռ ] ձմեռ\n",
            "պառկածէրգերեզմանատանվրա [ պառկած < ածէրգերեզմանատանվր | ած էր գերեզմանատան վր > վրա ] պառկած էր գերեզմանատան վրա\n",
            "ճմերուկների [  < ճմե | ձմե > մերուկների ] ձմերուկների\n",
            "ունողկալի [ ու < ունո | ու նո > նողկալի ] ու նողկալի\n",
            "գլխապտույտնե [ գլխապտույտնե < նե | ներ >  ] գլխապտույտներ\n",
            "ճայնի [  < ճայ | ձայ > այնի ] ձայնի\n",
            "ճկների [  < ճկն | ձկն > կների ] ձկների\n",
            "այլնայլ [ այլ < յլնայ | յլևայ > այլ ] այլևայլ\n",
            "ճնականություններից [  < ճնակ | ձևակ > ականություններից ] ձևականություններից\n",
            "չուննորներին [ չուն < ւննոր | ւնևոր > որներին ] չունևորներին\n",
            "արճակվող [ ար < արճակվող | արձակվել >  ] արձակվել\n",
            "խամարդ [  < խամ | տղամ > ամարդ ] տղամարդ\n",
            "Միգուցենա [  <  |  > նա ] միգուցե նա\n",
            "ջղաճգութու [  < ջղաճգութու | Ջղաձգություն >  ] Ջղաձգություն\n",
            "Դետեսնում [  < Դետեսնում | դե տեսնում  >  ] դե տեսնում \n",
            "բարճրաց [ բար < արճրաց | արձրացնել >  ] բարձրացնել\n",
            "ինճ [ ին < ինճ | ինձ >  ] ինձ\n",
            "Որովհետն [  < Որովհետն | որովհետև >  ] որովհետև\n",
            "ննույնիսկ [ ն <  |  > նույնիսկ ] նույնիսկ\n",
            "հուսահատեգնում [ հ < մ | լ >  ] հեւսահատեցնել\n",
            "որնրան [ որ < որնր | որ նր > նրան ] որ նրան\n",
            "Ջգազմունքներից [  < Ջգազմունքներից | Զգացմունք >  ] Զգացմունք\n",
            "մնահավատությոն [  < մ | ս > ն ] սնահավատություն\n",
            "հեթանոսա [ հեթանոսա < սա | սացում >  ] հեթանոսացում\n",
            "խարույկՄ [ խարույկ < յկՄ | յկ >  ] խարույկ\n",
            "տուցում [  < տո | մատո > տուցում ] մատուցում\n",
            "նականռթյան [  < ն | բ > ն ] բանականություն\n",
            "անձր [ անձ < նձր | նձ, անձրև >  ] անձ, անձրև\n",
            "տարօրի [ տարօրի < րի | րինակ >  ] տարօրինակ\n",
            "թնիկները [ թ < ը | կ >  ] թևիկ\n",
            "աստվածավախու [ աստվածավախու < ու | ություն >  ] աստվածավախություն\n",
            "բարճր [ բար <  |  > ր ] բարձր\n",
            "լավէ [ լավ <  |  > է ] լավ է\n",
            "Թռենել [  < Թռենե | թռնե > նել ] թռնել\n",
            "հանճնեց [ հան < անճնեց | անձնել >  ] հանձնել\n",
            "Դհյոյում [ Դ < մ | ո >  ] Դյո\n",
            "տակիզ [ տակի < կիզ | կից >  ] տակից\n",
            "գաղտագող [ գաղտագող < ող | ողի >  ] գաղտագողի\n",
            "լաուրա [  < լաո | Լաո > աուրա ] Լաուրա\n",
            "տաններոն [  < տան | Տան > աններոն ] Տաններոն\n",
            "մերճակա [ մեր < երճակ | երձակ > ակա ] մերձակա\n",
            "ռանալել [  < ռ | կ > լ ] կռանալ\n",
            "Տերն [ Տեր < երն | եր >  ] Տեր\n",
            "ճեռք [  < ճեռ | ձեռ > եռք ] ձեռք\n",
            "կարագից [ կարագ < ագից | ագ >  ] կարագ\n",
            "ճայն [  < ճայ | ձայ > այն ] ձայն\n",
            "ճեռք [  < ճեռ | ձեռ > եռք ] ձեռք\n",
            "այլնս [ այլ <  |  > ս ] այլևս\n",
            "ետուն [ ետ < ետուն | ետև >  ] ետև\n",
            "կեղն [ կեղ < եղն | եղև >  ] կեղև\n",
            "լուսաբացի [ լուսաբաց < ացի | աց >  ] լուսաբաց\n",
            "շուրջբոլոր [ շուրջբոլոր < որ | որը >  ] շուրջբոլորը\n",
            "ճիկ [  < ճ | ձ > կ ] ձուկ\n",
            "դիմափոշու [ դիմափոշ < ոշու | ոշի >  ] դիմափոշի\n",
            "ննա [ ն <  |  > նա ] նա\n",
            "բանաձին [ բանաձ < աձին | աձև >  ] բանաձև\n",
            "ճեր [  < ճեր | դուք >  ] դուք\n",
            "առնտրական [ առ < առնտր | առևտր > տրական ] առևտրական\n",
            "արնելյան [ ար < արնել | արևել > ելյան ] արևելյան\n",
            "կուղնոր [  < կուղնոր | ուղևորվել >  ] ուղևորվել\n",
            "փափկենալ [ փափկե <  |  > լ ] փափկել\n",
            "իս [  < ի | և > ս ] ևս\n",
            "հետնել [ հետ <  |  > ել ] հետևել\n",
            "փնթփնթել [ փնթփնթ <  |  > լ ] փնթփնթալ\n",
            "մեսինա [  < մես | Մես > եսինա ] Մեսինա\n",
            "նուխիսկ [ նու < ուխիս | ույնիս > իսկ ] նույնիսկ\n",
            "քացնել [  < ք | չ > լ ] չքանալ\n",
            "երնույթ [ եր < երնու | երևու > ույթ ] երևույթ\n",
            "քրտնք [ քրտ <  |  > նք ] քրտինք\n",
            "արվարճան [ արվար <  |  > ան ] արվարձան\n",
            "անճամբ [ ան < անճամ | անձամ > ամբ ] անձամբ\n",
            "ճայն [  < ճայ | ձայ > այն ] ձայն\n",
            "ճգվել [  < ճգվ | ձգվ > գվել ] ձգվել\n",
            "թունելի [ թունել < ելի | ել >  ] թունել\n",
            "բատիստ [  < բատ | Բատ > ատիստ ] Բատիստ\n",
            "ճիու [  < ճիու | ձի >  ] ձի\n",
            "դարճնել [ դար < արճնե | արձնե > նել ] դարձնել\n",
            "ուղնորվել [ ուղ < ւղնոր | ւղևոր > որվել ] ուղևորվել\n",
            "ռահել [  < ռա | կռա > ռահել ] կռահել\n",
            "Ռիշին [ Ռիշի < շին | շի >  ] Ռիշի\n",
            "լաուրային [  < լաուրային | Լաուրա >  ] Լաուրա\n",
            "իջնանատան [ իջ < ի | ի > ն ] իջևանատուն\n",
            "Գրասյան [  < Գ | գ > ն ] գրասյուն\n",
            "ճգտել [  < ճգտ | ձգտ > գտել ] ձգտել\n",
            "դրսնոր [ դրս < րսնոր | րսևորել >  ] դրսևորել\n",
            "արվարճան [ արվար <  |  > ան ] արվարձան\n",
            "նվիրակար [  < նվիրակար | ամենագարշահոտ >  ] ամենագարշահոտ\n",
            "ետնել [ ետ < ետնել | ետև >  ] ետև\n",
            "ծծմոր [ ծծմ <  |  > ր ] ծծմայր\n",
            "ծծմոր [ ծծմ <  |  > ր ] ծծմայր\n",
            "ճնավորվել [  < ճնավ | ձևավ > ավորվել ] ձևավորվել\n",
            "հետնաբար [ հետ < ետնաբ | ետևաբ > աբար ] հետևաբար\n",
            "ծծմոր [ ծծմ <  |  > ր ] ծծմայր\n",
            "կարամելի [ կարամել < ելի | ել >  ] կարամել\n",
            "ակար [ ա < ր | ի >  ] ամենատանջալի\n",
            "ռալ [  < ռ | չ > լ ] չռել\n",
            "կոցել [ կ <  |  > կոցել ] կկոցել\n",
            "ոռնել [ ոռն <  |  > լ ] ոռնալ\n",
            "ոռնանալ [ ոռնա < նանալ | նացող >  ] ոռնացող\n",
            "որպիսիք [ որպիսի < սիք | սին >  ] որպիսին\n",
            "միակին [ միակ < ակին | ակ >  ] միակ\n",
            "վերապրի [ վերապր < պրի | պրել >  ] վերապրել\n",
            "գոլորշին [ գոլորշի < շին | շի >  ] գոլորշի\n",
            "կարճ [  < կարճ | ամենաբարակ >  ] ամենաբարակ\n",
            "սանդալի [ սանդալ < ալի | ալ >  ] սանդալ\n",
            "վերոն [ վեր < երոն | երև >  ] վերև\n",
            "ազդիր [ ազդ <  |  > ր ] ազդր\n",
            "մաշկան [ մաշկ < շկան | շկ >  ] մաշկ\n",
            "գիտել [ գիտե <  |  > լ ] գիտենալ\n",
            "ավականանալ [  < ա | բ > լ ] բավականացնել\n",
            "ծաղկեփին [ ծա < ծաղկեփին | ծազկեփունջ >  ] ծազկեփունջ\n",
            "հագել [ հագ <  |  > ել ] հագնել\n",
            "հարնան [  < հ | գ > ն ] գարուն\n",
            "ճգտում [  < ճգտ | ձգտ > գտում ] ձգտում\n",
            "առջին [ առջ < ռջին | ռջև >  ] առջև\n",
            "ճմիռ [  < ճ | ձ > ռ ] ձմեռ\n",
            "սնահ [ ս < հ | ր >  ] սևահեր\n",
            "սեփականանալ [ սեփականա <  |  > լ ] սեփականացնել\n",
            "նկուղի [ նկուղ < ւղի | ւղ >  ] նկուղ\n",
            "ծանրութեթ [ ծանրութեթ < եթ | եթև >  ] ծանրութեթև\n",
            "արկիղ [ արկ <  |  > ղ ] արկղ\n",
            "շրթ [ շրթ < րթ | րթներկ >  ] շրթներկ\n",
            "ճագ [  <  |  > ագ ] ձագ\n",
            "դողանալ [ դողա <  |  > ալ ] դողալ\n",
            "պատկերանալ [ պատկերա <  |  > լ ] պատկերացնել\n",
            "այլնս [ այլ <  |  > ս ] այլևս\n",
            "վախել [ վախե <  |  > ել ] վախեցնել\n",
            "լինել [  < լինել | ես >  ] ես\n",
            "կառափնատեղ [ կառափնատեղ < եղ | եղի >  ] կառափնատեղի\n",
            "կառափնատեղիղ [ կառափնատեղի < ղիղ | ղի >  ] կառափնատեղի\n",
            "ճեռք [  < ճեռ | ձեռ > եռք ] ձեռք\n",
            "արճագանք [ ար < արճագ | արձագ > ագանք ] արձագանք\n",
            "ըյուսքին [  < ըյուսքին | Ջյուսքինդ >  ] Ջյուսքինդ\n",
            "նվիրական [  < նվիրական | ամենահանճարեղ >  ] ամենահանճարեղ\n",
            "ակտիր [ ա < ր | ի >  ] ամենագարշելի\n",
            "չօդափոխել [  < չօդ | օդ > օդափոխել ] օդափոխել\n",
            "չլվացնել [  < չլվացնել | լվանա >  ] լվանա\n",
            "ճմեռ [  < ճմե | ձմե > մեռ ] ձմեռ\n",
            "ճմերուկ [  < ճմե | ձմե > մերուկ ] ձմերուկ\n",
            "ուշաթափեցնել [ ուշաթափե <  |  > ել ] ուշաթափել\n",
            "լվացնել [ լվա <  |  > լ ] լվանալ\n",
            "ճայն [  < ճայ | ձայ > այն ] ձայն\n",
            "ճիկ [  < ճ | ձ > կ ] ձուկ\n",
            "ծծումոր [ ծծ < ծ | ծ > ր ] ծծմայր\n",
            "քրծեն [ քրծեն < են | ենի >  ] քրծենի\n",
            "արկիղ [ արկ <  |  > ղ ] արկղ\n",
            "այլնայլ [ այլ < յլնայ | յլևայ > այլ ] այլևայլ\n",
            "ճնականություն [  < ճնակ | ձևակ > ականություն ] ձևականություն\n",
            "չուննոր [ չուն <  |  > որ ] չունևոր\n",
            "կխնդրել [  < կխն | խն > խնդրել ] խնդրել\n",
            "երակրել [  < եր | կեր > երակրել ] կերակրել\n",
            "պիս [ պ <  |  > ս ] պես\n",
            "փինջ [ փ <  |  > նջ ] փունջ\n",
            "խկացնել [  < խկ | չխկ > խկացնել ] չխկացնել\n",
            "խեցամաննե [ խեցաման < աննե | ան >  ] խեցաման\n",
            "գանգրան [ գանգրան < ան | անալ >  ] գանգրանալ\n",
            "օտարին [ օտար < արին | ար >  ] օտար\n",
            "կարամելից [ կարամել < ելից | ել >  ] կարամել\n",
            "նվիրար [  < նվիրար | ամենապարզունակ >  ] ամենապարզունակ\n",
            "ունեմ [ ունե < նեմ | նենալ >  ] ունենալ\n",
            "քիթր [ քիթ < իթր | իթ >  ] քիթ\n",
            "աշխարհր [ աշխարհ < րհր | րհ >  ] աշխարհ\n",
            "ոստրամոխրագույնի [ ոստրամոխրագույն < յնի | յն >  ] ոստրամոխրագույն\n",
            "անկշտել [ անկշտ < շտել | շտում >  ] անկշտում\n",
            "ոռինոց [ ոռ < ոռինո | ոռնո > նոց ] ոռնոց\n",
            "ճղճիղան [ ճղճ < ղճիղա | ղճղա > ղան ] ճղճղան\n",
            "դյո [  <  |  > յո ] Դյո\n",
            "ժանտախտիգ [ ժանտախտի < տիգ | տից >  ] ժանտախտից\n"
          ]
        }
      ]
    },
    {
      "cell_type": "code",
      "source": [],
      "metadata": {
        "id": "ysYJ0tNlgQWx"
      },
      "execution_count": null,
      "outputs": []
    }
  ]
}