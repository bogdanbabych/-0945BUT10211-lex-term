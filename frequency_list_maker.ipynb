{
  "nbformat": 4,
  "nbformat_minor": 0,
  "metadata": {
    "colab": {
      "provenance": [],
      "authorship_tag": "ABX9TyMjtLMHrLnbN2CNAVsLrKUf",
      "include_colab_link": true
    },
    "kernelspec": {
      "name": "python3",
      "display_name": "Python 3"
    },
    "language_info": {
      "name": "python"
    }
  },
  "cells": [
    {
      "cell_type": "markdown",
      "metadata": {
        "id": "view-in-github",
        "colab_type": "text"
      },
      "source": [
        "<a href=\"https://colab.research.google.com/github/bogdanbabych/-0945BUT10211-lex-term/blob/main/frequency_list_maker.ipynb\" target=\"_parent\"><img src=\"https://colab.research.google.com/assets/colab-badge.svg\" alt=\"Open In Colab\"/></a>"
      ]
    },
    {
      "cell_type": "code",
      "execution_count": null,
      "metadata": {
        "id": "_lT2rfTkL94Q"
      },
      "outputs": [],
      "source": [
        "for i in range(10):\n",
        "    SI = str(i)\n",
        "    print(f'the count is: {SI}\\n')"
      ]
    },
    {
      "cell_type": "code",
      "source": [
        "import os, re, sys\n",
        "Dictionary = {}\n",
        "FIn = open('/content/article-aerzteblatt-2023-01-101-en.txt', 'r')\n",
        "for SLine in FIn:\n",
        "    SLine = SLine.rstrip()\n",
        "    LWords = re.split('[ ,\\.]', SLine)\n",
        "    for Word in LWords:\n",
        "        try:\n",
        "            Dictionary[Word] += 1\n",
        "        except:\n",
        "            Dictionary[Word] = 1\n",
        "\n",
        "FOut = open('dictionary-en.txt', 'w')\n",
        "for Word, Frq in sorted(Dictionary.items(), key=lambda item: item[1], reverse=True):\n",
        "    FOut.write(f'{Word}\\t{Frq}\\n')\n",
        "\n",
        "FOut.flush()\n"
      ],
      "metadata": {
        "id": "E34-k0EEN5Uq"
      },
      "execution_count": 9,
      "outputs": []
    }
  ]
}