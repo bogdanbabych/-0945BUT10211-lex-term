{
  "nbformat": 4,
  "nbformat_minor": 0,
  "metadata": {
    "colab": {
      "provenance": [],
      "authorship_tag": "ABX9TyPIJ3qlXG3cPCO4/sAfRwg5",
      "include_colab_link": true
    },
    "kernelspec": {
      "name": "python3",
      "display_name": "Python 3"
    },
    "language_info": {
      "name": "python"
    }
  },
  "cells": [
    {
      "cell_type": "markdown",
      "metadata": {
        "id": "view-in-github",
        "colab_type": "text"
      },
      "source": [
        "<a href=\"https://colab.research.google.com/github/bogdanbabych/-0945BUT10211-lex-term/blob/main/statistical_analysis_python_examples.ipynb\" target=\"_parent\"><img src=\"https://colab.research.google.com/assets/colab-badge.svg\" alt=\"Open In Colab\"/></a>"
      ]
    },
    {
      "cell_type": "code",
      "execution_count": 2,
      "metadata": {
        "colab": {
          "base_uri": "https://localhost:8080/"
        },
        "id": "gDCsqDq8lU3v",
        "outputId": "f785dcbc-b749-41a9-fac9-b3c05b32bb94"
      },
      "outputs": [
        {
          "output_type": "stream",
          "name": "stdout",
          "text": [
            "p value is 6.670229404992135e-07\n",
            "Dependent (reject H0)\n",
            "31.5\n",
            "3\n",
            "[[105.55555556  60.31746032  15.07936508   9.04761905]\n",
            " [ 69.44444444  39.68253968   9.92063492   5.95238095]]\n",
            "-14.220441398070188\n"
          ]
        }
      ],
      "source": [
        "from scipy.stats import chi2_contingency\n",
        "import math\n",
        "# defining the table\n",
        "data = [[100, 50, 25, 15], [75, 50, 0, 0]]\n",
        "stat, p, dof, expected = chi2_contingency(data)\n",
        "\n",
        "# interpret p-value\n",
        "alpha = 0.05\n",
        "print(\"p value is \" + str(p))\n",
        "if p <= alpha:\n",
        "\tprint('Dependent (reject H0)')\n",
        "else:\n",
        "\tprint('Independent (H0 holds true)')\n",
        "\n",
        "\n",
        "print(stat)\n",
        "print(dof)\n",
        "print(expected)\n",
        "\n",
        "\n",
        "print(math.log(p))\n"
      ]
    },
    {
      "cell_type": "code",
      "source": [
        "print(math.log(0.1))\n",
        "print(math.log(0.05))\n",
        "print(math.log(0.005))"
      ],
      "metadata": {
        "id": "p0zb94Kqo8PB",
        "outputId": "70f622b9-6c27-46fc-ce83-35553a806125",
        "colab": {
          "base_uri": "https://localhost:8080/"
        }
      },
      "execution_count": 3,
      "outputs": [
        {
          "output_type": "stream",
          "name": "stdout",
          "text": [
            "-2.3025850929940455\n",
            "-2.995732273553991\n",
            "-5.298317366548036\n"
          ]
        }
      ]
    },
    {
      "cell_type": "code",
      "source": [
        "from scipy.stats import chi2_contingency\n",
        "\n",
        "# defining the table\n",
        "data = [[207, 282, 241], [234, 242, 232]]\n",
        "stat, p, dof, expected = chi2_contingency(data)\n",
        "\n",
        "# interpret p-value\n",
        "alpha = 0.05\n",
        "print(\"p value is \" + str(p))\n",
        "if p <= alpha:\n",
        "\tprint('Dependent (reject H0)')\n",
        "else:\n",
        "\tprint('Independent (H0 holds true)')\n"
      ],
      "metadata": {
        "colab": {
          "base_uri": "https://localhost:8080/"
        },
        "id": "O4LoswZhmrCq",
        "outputId": "0999169f-bc5b-4bcb-f06c-ce5c8bd3865d"
      },
      "execution_count": null,
      "outputs": [
        {
          "output_type": "stream",
          "name": "stdout",
          "text": [
            "p value is 0.1031971404730939\n",
            "Independent (H0 holds true)\n"
          ]
        }
      ]
    }
  ]
}